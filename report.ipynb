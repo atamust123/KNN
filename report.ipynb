{
 "cells": [
  {
   "cell_type": "markdown",
   "metadata": {},
   "source": [
    "#                Part I: Theory Questions"
   ]
  },
  {
   "cell_type": "markdown",
   "metadata": {},
   "source": [
    "<img src=\"First question.png\" >\n",
    "<img src=\"1.png\" >"
   ]
  },
  {
   "cell_type": "markdown",
   "metadata": {},
   "source": [
    "<img src=\"Second question_a.png\" >\n",
    "\n",
    "\n",
    "<img src=\"2-a.png\" >"
   ]
  },
  {
   "cell_type": "markdown",
   "metadata": {},
   "source": [
    "<img src=\"2_bcd.png\" >\n",
    "\n",
    "<img src=\"2-b.png\" >\n",
    "<img src=\"2-c.png\" >\n",
    "<img src=\"2-d.png\" >"
   ]
  },
  {
   "cell_type": "markdown",
   "metadata": {},
   "source": [
    "<img src=\"LinearRegression.png\" >\n",
    "\n",
    "<img src=\"linear-1.jpg\" >\n",
    "<img src=\"linear-2.jpg\" >\n",
    "<img src=\"linear-3.jpg\" >\n",
    "<br />\n",
    "<br />\n",
    "<br />"
   ]
  },
  {
   "cell_type": "markdown",
   "metadata": {},
   "source": [
    "#                               PART II: Classification of Images"
   ]
  },
  {
   "cell_type": "markdown",
   "metadata": {},
   "source": [
    "<img src=\"k-fold-validation.png\">\n",
    "<br />\n",
    "<H1 align=\"center\"> K fold array </H1>\n",
    "<img src=\"k-fold_array.png\">\n",
    "<p>K fold value is selected as 10. But some other values had been selected in k-fold_array. %10 of the data is wasted because of 10 k cross validation. By the way some of the datas can not be included for example 21 datas can not be equally shared in 4 k fold cross validation.1 data is wasted at the beginning </p>\n",
    "<br/>"
   ]
  },
  {
   "cell_type": "markdown",
   "metadata": {},
   "source": [
    "<H1 align=\"center\">Features </H1>"
   ]
  },
  {
   "cell_type": "markdown",
   "metadata": {},
   "source": [
    "<img src=\"Read_dataset.png\">\n",
    "    Dataset first read from path with cv2 method as uint type. Then it has to be resize because of three classes are different image shapes. <p style=\"color:red\">In here to we fix it to the  64,64 with INTER_AREA interpolation.(Tiny image) .</p>\n",
    "    <p style=\"color:blue\">Using only Gabor process gives a better accuracy.</p>\n",
    "At the end of one loop it has added to the dataset list with its [\"Processed image\", \"Target value(1 stands for Covid)\"] each data has length of 2.\n"
   ]
  },
  {
   "cell_type": "markdown",
   "metadata": {},
   "source": [
    "<H1 align=\"center\">KNN and WKNN </H1>\n",
    "\n",
    "- In predict function both are calculated.\n",
    "- WKNN calculated with the 1/(euclidean dist) of the nearest k samples which are greater value\n",
    "- accuracy_calculator function is to calculate the accuracy.  \n",
    "\n",
    "\n",
    "# This is validation accuracy\n",
    "<img src=\"Accuracy.png\">\n",
    "\n",
    "- Two accuracies are calculated with its k_nearest_neighor=3\n",
    "- Next one is calculated with weighted k_nearest_neighor=4\n",
    "- Last one is calculated with weighted k_nearest_neighor=6\n",
    "\n",
    "# This is test accuracy\n",
    "<img src=\"test_accuracy.png\">\n",
    "\n",
    "- 707 is true predicted knn\n",
    "- 708 is true predicted wknn\n",
    "- 777 is total samples\n",
    "<br/>\n",
    "<br/>"
   ]
  },
  {
   "cell_type": "markdown",
   "metadata": {},
   "source": [
    "<H1 align=\"center\">Error Analysis </H1>\n",
    "<p >There is always a missclassification because of resizing. In the code resizing with 8,8 values is too simple for classification. By the way some datas have noise and corruption. Some have different images. For example one image has that.</p>\n",
    "<img src=\"noise_image.png\">\n",
    "<p>It is hard to classify this picture above.</p>\n",
    "<br/>\n",
    "\n",
    "- At the beginning of the project. Accuracy was too low because the training images were around 100, with accuracy 48%. This is because underfitting. But now there is a bit of overfitting because k value is motly chosen as 6 with k_fold=10. \n",
    "- But in here first criteria is resize (down scaling) consideration. Because down scaling is reducing the image features. \n",
    "    - Too high or too low values of height,weight can not be considered as best accuracy. In my project using:                           - out=cv2.resize(img,(16,16),interpolation = cv2.INTER_AREA ) gives the best accuracy. \n",
    "\n",
    "- But in my code using only Gabor gives better accuracy than using Gabor with Canny.\n",
    "    - Gabor (around 87% accuracy)> Gabor with Canny (around 78% accuracy)> Canny(around 52% accuracy)"
   ]
  },
  {
   "cell_type": "code",
   "execution_count": null,
   "metadata": {},
   "outputs": [],
   "source": []
  }
 ],
 "metadata": {
  "kernelspec": {
   "display_name": "Python 3",
   "language": "python",
   "name": "python3"
  },
  "language_info": {
   "codemirror_mode": {
    "name": "ipython",
    "version": 3
   },
   "file_extension": ".py",
   "mimetype": "text/x-python",
   "name": "python",
   "nbconvert_exporter": "python",
   "pygments_lexer": "ipython3",
   "version": "3.8.5"
  }
 },
 "nbformat": 4,
 "nbformat_minor": 4
}
